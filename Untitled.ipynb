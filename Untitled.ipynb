{
 "cells": [
  {
   "cell_type": "code",
   "execution_count": 12,
   "id": "06360450",
   "metadata": {},
   "outputs": [],
   "source": [
    "import cobra"
   ]
  },
  {
   "cell_type": "code",
   "execution_count": 13,
   "id": "bf551ea7",
   "metadata": {},
   "outputs": [
    {
     "name": "stderr",
     "output_type": "stream",
     "text": [
      "INFO:cobra.core.model:The current solver interface glpk doesn't support setting the optimality tolerance.\n"
     ]
    },
    {
     "data": {
      "text/plain": [
       "<optlang.glpk_interface.Model at 0x21526fb6fd0>"
      ]
     },
     "execution_count": 13,
     "metadata": {},
     "output_type": "execute_result"
    }
   ],
   "source": [
    "model = cobra.io.read_sbml_model('./Human-GEM/model/Human-GEM.xml')\n",
    "model.solver"
   ]
  },
  {
   "cell_type": "code",
   "execution_count": 14,
   "id": "10fa4d32",
   "metadata": {},
   "outputs": [],
   "source": [
    "solution = model.optimize()"
   ]
  },
  {
   "cell_type": "code",
   "execution_count": 15,
   "id": "89d44db8",
   "metadata": {},
   "outputs": [
    {
     "data": {
      "text/plain": [
       "pandas.core.series.Series"
      ]
     },
     "execution_count": 15,
     "metadata": {},
     "output_type": "execute_result"
    }
   ],
   "source": [
    "type(solution.fluxes)"
   ]
  },
  {
   "cell_type": "code",
   "execution_count": 16,
   "id": "e5ae52c2",
   "metadata": {},
   "outputs": [],
   "source": [
    "import pandas as pd"
   ]
  },
  {
   "cell_type": "code",
   "execution_count": 17,
   "id": "b9954698",
   "metadata": {},
   "outputs": [
    {
     "data": {
      "text/plain": [
       "1454"
      ]
     },
     "execution_count": 17,
     "metadata": {},
     "output_type": "execute_result"
    }
   ],
   "source": [
    "df=pd.read_csv('MONDO_0005148_associations_export.tsv', sep='\\t')\n",
    "to_drop = ['pValueAnnotation', 'orValue', 'beta', 'ci', 'efoTraits', 'bgTraits', 'accessionId', 'pubmedId', 'author']\n",
    "df.drop(to_drop, inplace=True, axis=1)\n",
    "\n",
    "\n",
    "df=df[pd.to_numeric(df['riskFrequency'], errors='coerce').notnull()]\n",
    "df=df.loc[df['mappedGenes']!='-']\n",
    "df[['chr_num', 'chr_pos']] = df['locations'].str.split(':', n=1, expand=True)\n",
    "df.drop(['locations'], inplace=True, axis=1)\n",
    "df.sort_values(by='riskFrequency')\n",
    "len(set(df.mappedGenes))\n"
   ]
  },
  {
   "cell_type": "code",
   "execution_count": 18,
   "id": "bc4f061a",
   "metadata": {},
   "outputs": [],
   "source": [
    "df2=pd.read_csv('143_risk_variants.tsv', sep='\\t')\n",
    "to_drop = ['DATE ADDED TO CATALOG', 'PUBMEDID', 'FIRST AUTHOR', 'DATE', 'JOURNAL', 'LINK', 'STUDY', 'GENOTYPING TECHNOLOGY', 'STUDY ACCESSION','MAPPED_TRAIT','MAPPED_TRAIT_URI','PLATFORM [SNPS PASSING QC]','95% CI (TEXT)','OR or BETA','PVALUE_MLOG','P-VALUE (TEXT)','INTERGENIC','CNV','SNP_ID_CURRENT','MERGED','UPSTREAM_GENE_ID','DOWNSTREAM_GENE_ID','UPSTREAM_GENE_DISTANCE','DOWNSTREAM_GENE_DISTANCE','SNP_GENE_IDS','REPLICATION SAMPLE SIZE']\n",
    "df2.drop(to_drop, inplace=True, axis=1)\n",
    "df2=df2[pd.to_numeric(df2['RISK ALLELE FREQUENCY'], errors='coerce').notnull()]\n",
    "df2=df2.dropna(subset='REPORTED GENE(S)')\n",
    "\n",
    "df2=df2.rename(columns={\"DISEASE/TRAIT\":\"traitName\", 'MAPPED_GENE':'mappedGenes','P-VALUE':'pValue','RISK ALLELE FREQUENCY':'riskFrequency','CHR_ID':'chr_num','CHR_POS':'chr_pos','STRONGEST SNP-RISK ALLELE':'riskAllele'})\n",
    "to_drop = ['INITIAL SAMPLE SIZE','REGION','REPORTED GENE(S)','SNPS','CONTEXT']\n",
    "df2.drop(to_drop, inplace=True, axis=1)"
   ]
  },
  {
   "cell_type": "code",
   "execution_count": 19,
   "id": "28a7a1fd",
   "metadata": {},
   "outputs": [
    {
     "data": {
      "text/html": [
       "<div>\n",
       "<style scoped>\n",
       "    .dataframe tbody tr th:only-of-type {\n",
       "        vertical-align: middle;\n",
       "    }\n",
       "\n",
       "    .dataframe tbody tr th {\n",
       "        vertical-align: top;\n",
       "    }\n",
       "\n",
       "    .dataframe thead th {\n",
       "        text-align: right;\n",
       "    }\n",
       "</style>\n",
       "<table border=\"1\" class=\"dataframe\">\n",
       "  <thead>\n",
       "    <tr style=\"text-align: right;\">\n",
       "      <th></th>\n",
       "      <th>traitName</th>\n",
       "      <th>chr_num</th>\n",
       "      <th>chr_pos</th>\n",
       "      <th>mappedGenes</th>\n",
       "      <th>riskAllele</th>\n",
       "      <th>riskFrequency</th>\n",
       "      <th>pValue</th>\n",
       "    </tr>\n",
       "  </thead>\n",
       "  <tbody>\n",
       "    <tr>\n",
       "      <th>1</th>\n",
       "      <td>Type 2 diabetes</td>\n",
       "      <td>11</td>\n",
       "      <td>2817183</td>\n",
       "      <td>KCNQ1</td>\n",
       "      <td>rs163177-C</td>\n",
       "      <td>0.43</td>\n",
       "      <td>1.000000e-06</td>\n",
       "    </tr>\n",
       "    <tr>\n",
       "      <th>89</th>\n",
       "      <td>Type 2 diabetes</td>\n",
       "      <td>7</td>\n",
       "      <td>127613496</td>\n",
       "      <td>PAX4</td>\n",
       "      <td>rs2233580-A</td>\n",
       "      <td>0.07</td>\n",
       "      <td>2.000000e-10</td>\n",
       "    </tr>\n",
       "    <tr>\n",
       "      <th>90</th>\n",
       "      <td>Type 2 diabetes</td>\n",
       "      <td>6</td>\n",
       "      <td>20694653</td>\n",
       "      <td>CDKAL1</td>\n",
       "      <td>rs2206734-A</td>\n",
       "      <td>0.46</td>\n",
       "      <td>2.000000e-10</td>\n",
       "    </tr>\n",
       "    <tr>\n",
       "      <th>91</th>\n",
       "      <td>Type 2 diabetes</td>\n",
       "      <td>11</td>\n",
       "      <td>2835964</td>\n",
       "      <td>KCNQ1</td>\n",
       "      <td>rs2237895-C</td>\n",
       "      <td>0.31</td>\n",
       "      <td>4.000000e-09</td>\n",
       "    </tr>\n",
       "    <tr>\n",
       "      <th>92</th>\n",
       "      <td>Type 2 diabetes</td>\n",
       "      <td>5</td>\n",
       "      <td>127020350</td>\n",
       "      <td>MARCHF3</td>\n",
       "      <td>rs11960799-?</td>\n",
       "      <td>0.65</td>\n",
       "      <td>1.000000e-07</td>\n",
       "    </tr>\n",
       "    <tr>\n",
       "      <th>...</th>\n",
       "      <td>...</td>\n",
       "      <td>...</td>\n",
       "      <td>...</td>\n",
       "      <td>...</td>\n",
       "      <td>...</td>\n",
       "      <td>...</td>\n",
       "      <td>...</td>\n",
       "    </tr>\n",
       "    <tr>\n",
       "      <th>5087</th>\n",
       "      <td>Type 2 diabetes</td>\n",
       "      <td>9</td>\n",
       "      <td>81694033</td>\n",
       "      <td>TLE1-DT</td>\n",
       "      <td>rs2796441-G</td>\n",
       "      <td>0.63</td>\n",
       "      <td>2.000000e-06</td>\n",
       "    </tr>\n",
       "    <tr>\n",
       "      <th>5088</th>\n",
       "      <td>Type 2 diabetes</td>\n",
       "      <td>2</td>\n",
       "      <td>226228869</td>\n",
       "      <td>NYAP2 - MIR5702</td>\n",
       "      <td>rs2943640-C</td>\n",
       "      <td>0.63</td>\n",
       "      <td>7.000000e-09</td>\n",
       "    </tr>\n",
       "    <tr>\n",
       "      <th>5089</th>\n",
       "      <td>Type 2 diabetes</td>\n",
       "      <td>15</td>\n",
       "      <td>77454848</td>\n",
       "      <td>HMG20A</td>\n",
       "      <td>rs7178572-G</td>\n",
       "      <td>0.7</td>\n",
       "      <td>2.000000e-11</td>\n",
       "    </tr>\n",
       "    <tr>\n",
       "      <th>5090</th>\n",
       "      <td>Type 2 diabetes</td>\n",
       "      <td>10</td>\n",
       "      <td>79182874</td>\n",
       "      <td>ZMIZ1</td>\n",
       "      <td>rs12571751-A</td>\n",
       "      <td>0.51</td>\n",
       "      <td>2.000000e-10</td>\n",
       "    </tr>\n",
       "    <tr>\n",
       "      <th>5091</th>\n",
       "      <td>Type 2 diabetes</td>\n",
       "      <td>3</td>\n",
       "      <td>123363551</td>\n",
       "      <td>ADCY5</td>\n",
       "      <td>rs11717195-T</td>\n",
       "      <td>0.78</td>\n",
       "      <td>2.000000e-08</td>\n",
       "    </tr>\n",
       "  </tbody>\n",
       "</table>\n",
       "<p>2647 rows × 7 columns</p>\n",
       "</div>"
      ],
      "text/plain": [
       "            traitName chr_num    chr_pos      mappedGenes    riskAllele  \\\n",
       "1     Type 2 diabetes      11    2817183            KCNQ1    rs163177-C   \n",
       "89    Type 2 diabetes       7  127613496             PAX4   rs2233580-A   \n",
       "90    Type 2 diabetes       6   20694653           CDKAL1   rs2206734-A   \n",
       "91    Type 2 diabetes      11    2835964            KCNQ1   rs2237895-C   \n",
       "92    Type 2 diabetes       5  127020350          MARCHF3  rs11960799-?   \n",
       "...               ...     ...        ...              ...           ...   \n",
       "5087  Type 2 diabetes       9   81694033          TLE1-DT   rs2796441-G   \n",
       "5088  Type 2 diabetes       2  226228869  NYAP2 - MIR5702   rs2943640-C   \n",
       "5089  Type 2 diabetes      15   77454848           HMG20A   rs7178572-G   \n",
       "5090  Type 2 diabetes      10   79182874            ZMIZ1  rs12571751-A   \n",
       "5091  Type 2 diabetes       3  123363551            ADCY5  rs11717195-T   \n",
       "\n",
       "     riskFrequency        pValue  \n",
       "1             0.43  1.000000e-06  \n",
       "89            0.07  2.000000e-10  \n",
       "90            0.46  2.000000e-10  \n",
       "91            0.31  4.000000e-09  \n",
       "92            0.65  1.000000e-07  \n",
       "...            ...           ...  \n",
       "5087          0.63  2.000000e-06  \n",
       "5088          0.63  7.000000e-09  \n",
       "5089           0.7  2.000000e-11  \n",
       "5090          0.51  2.000000e-10  \n",
       "5091          0.78  2.000000e-08  \n",
       "\n",
       "[2647 rows x 7 columns]"
      ]
     },
     "execution_count": 19,
     "metadata": {},
     "output_type": "execute_result"
    }
   ],
   "source": [
    "df3=pd.read_csv('5471_associations.tsv', sep='\\t')\n",
    "to_drop = ['DATE ADDED TO CATALOG', 'PUBMEDID', 'FIRST AUTHOR', 'DATE', 'JOURNAL', 'LINK', 'STUDY', 'GENOTYPING TECHNOLOGY', 'STUDY ACCESSION','MAPPED_TRAIT','MAPPED_TRAIT_URI','PLATFORM [SNPS PASSING QC]','95% CI (TEXT)','OR or BETA','PVALUE_MLOG','P-VALUE (TEXT)','INTERGENIC','CNV','SNP_ID_CURRENT','MERGED','UPSTREAM_GENE_ID','DOWNSTREAM_GENE_ID','UPSTREAM_GENE_DISTANCE','DOWNSTREAM_GENE_DISTANCE','SNP_GENE_IDS','REPLICATION SAMPLE SIZE']\n",
    "df3.drop(to_drop, inplace=True, axis=1)\n",
    "set(df3['DISEASE/TRAIT'])\n",
    "df3=df3.loc[df3['DISEASE/TRAIT']=='Type 2 diabetes']\n",
    "df3=df3.dropna(subset='REPORTED GENE(S)')\n",
    "df3=df3[pd.to_numeric(df3['RISK ALLELE FREQUENCY'], errors='coerce').notnull()]\n",
    "df3=df3.rename(columns={\"DISEASE/TRAIT\":\"traitName\", 'MAPPED_GENE':'mappedGenes','P-VALUE':'pValue','RISK ALLELE FREQUENCY':'riskFrequency','CHR_ID':'chr_num','CHR_POS':'chr_pos','STRONGEST SNP-RISK ALLELE':'riskAllele'})\n",
    "to_drop = ['INITIAL SAMPLE SIZE','REGION','REPORTED GENE(S)','SNPS','CONTEXT']\n",
    "df3.drop(to_drop, inplace=True, axis=1)\n",
    "df3"
   ]
  },
  {
   "cell_type": "code",
   "execution_count": 59,
   "id": "b0ffe7e1",
   "metadata": {},
   "outputs": [],
   "source": [
    "gwas_genes=list(set(list(df.mappedGenes)+list(df2.mappedGenes)+list(df3.mappedGenes)))"
   ]
  },
  {
   "cell_type": "code",
   "execution_count": 42,
   "id": "b876f54c",
   "metadata": {},
   "outputs": [],
   "source": [
    "from pyensembl import EnsemblRelease\n",
    "data = EnsemblRelease(release=111, species='homo_sapiens')"
   ]
  },
  {
   "cell_type": "code",
   "execution_count": 98,
   "id": "9d6bb2c3",
   "metadata": {},
   "outputs": [],
   "source": [
    "model_genes=[]\n",
    "gene_ensembl_table = dict()      # gene_ensemble_table['CDA2F'] = 'ENSG00000012861'\n",
    "model_genetype=dict()\n",
    "\n",
    "for i in model.genes:\n",
    "    try:\n",
    "        model_genes.append(data.gene_by_id(i.id).gene_name)\n",
    "        gene_ensembl_table[data.gene_by_id(i.id).gene_name]=i.id\n",
    "        model_genetype[data.gene_by_id(i.id).gene_name]=data.gene_by_id(i.id).biotype\n",
    "    except ValueError:\n",
    "        pass"
   ]
  },
  {
   "cell_type": "code",
   "execution_count": 101,
   "id": "41149de1",
   "metadata": {},
   "outputs": [
    {
     "name": "stdout",
     "output_type": "stream",
     "text": [
      "733\n",
      "100\n",
      "1142\n",
      "1143\n"
     ]
    }
   ],
   "source": [
    "pure_genes=[]\n",
    "\n",
    "# FUTURE DIRECTIONS\n",
    "linc_genes=[]\n",
    "dash_genes=[]\n",
    "comma_genes=[]\n",
    "gwas_genes=gwas_genes[1:]\n",
    "\n",
    "for i in gwas_genes:\n",
    "    if '-' in i:\n",
    "        if 'LINC' in i:\n",
    "            linc_genes.append(i)\n",
    "        else:\n",
    "            for j in i.split('-'):\n",
    "                if j[0]!=' ':\n",
    "                    dash_genes.append(j)\n",
    "                else:\n",
    "                    dash_genes.append(j[1:])\n",
    "    elif ',' in i:\n",
    "        for j in i.split(','):\n",
    "            comma_genes.append(j)\n",
    "    else:\n",
    "        pure_genes.append(i)\n",
    "print(len(pure_genes))\n",
    "print(len(linc_genes))\n",
    "print(len(dash_genes))\n",
    "print(len(comma_genes))"
   ]
  },
  {
   "cell_type": "code",
   "execution_count": 102,
   "id": "34885a1b",
   "metadata": {},
   "outputs": [
    {
     "name": "stdout",
     "output_type": "stream",
     "text": [
      "113\n"
     ]
    }
   ],
   "source": [
    "ko_candidate_genes=[]\n",
    "for i in pure_genes:\n",
    "    if i in model_genes:\n",
    "        ko_candidate_genes.append(i)\n",
    "print(len(ko_candidate_genes))"
   ]
  },
  {
   "cell_type": "markdown",
   "id": "cd6f3e56",
   "metadata": {},
   "source": [
    "113 KO candidate genes"
   ]
  },
  {
   "cell_type": "code",
   "execution_count": 153,
   "id": "5f90de94",
   "metadata": {},
   "outputs": [
    {
     "name": "stdout",
     "output_type": "stream",
     "text": [
      "114\n"
     ]
    }
   ],
   "source": [
    "# ENSG00000089472\n",
    "import copy\n",
    "solutions=[model.optimize()]\n",
    "\n",
    "model_genes=dict()\n",
    "for i in model.genes:\n",
    "    model_genes[i.id]=i\n",
    "for i in ko_candidate_genes:\n",
    "    model.genes.get_by_id(gene_ensembl_table[i]).knock_out()\n",
    "    solutions.append(model.optimize())\n",
    "    model.genes.get_by_id(gene_ensembl_table[i]).functional=True\n",
    "print(len(solutions))"
   ]
  },
  {
   "cell_type": "code",
   "execution_count": 154,
   "id": "d42475c0",
   "metadata": {},
   "outputs": [
    {
     "name": "stdout",
     "output_type": "stream",
     "text": [
      "['BRAP', 'ABCA1', 'CTBP1', 'NUP133', 'PTEN', 'FADS2', 'SLC1A2', 'UHRF1', 'MSRA', 'ASAH1', 'UBE2O', 'SLC13A3', 'GBA2', 'SLCO4A1', 'PDHX', 'HECW1', 'ACE', 'SRR', 'APIP', 'CPA6', 'ACP6', 'USP3', 'SLC2A2', 'AQP10', 'AOC1', 'ENO3', 'LPL', 'MGAT1', 'ATP2A1', 'HS6ST3', 'TPCN2', 'UBE3C', 'DMGDH', 'PLCB3', 'PTDSS1', 'COPB1', 'TNKS2', 'NOS1', 'ABCC1', 'PTPRQ', 'SLC39A8', 'BTD', 'PARP8', 'FARSA', 'USP36', 'DGKG', 'YKT6', 'XYLT1', 'ART3', 'SCD5', 'DGKD', 'SETD5', 'LPIN2', 'NUP160', 'LDHB', 'UBE2D3', 'DDC', 'MARCHF3', 'CHST6', 'USP44', 'MTAP', 'NSD1', 'SLC25A26', 'GUCY1B1', 'ACP7', 'OARD1', 'ATP2A3', 'HPSE2', 'CPA1', 'PGM1', 'ACSL1', 'AOAH', 'ST6GAL1', 'PDE3A', 'ATP8B2', 'POLK', 'PRKD1', 'MARCHF1', 'CTSH', 'GYS2', 'POLR1D', 'KCNJ11', 'HSD17B12', 'PNPLA3', 'SLC16A13', 'PDE3B', 'ACHE', 'ABO', 'ABCC8', 'SLC7A7', 'ADCY5', 'ALDH1A2', 'SGPL1', 'PLA2G6', 'PAM', 'PDIA6', 'UBE2Z', 'EP300', 'GCK', 'UBE2E2', 'DNMT3A', 'DGKB', 'USP48', 'PEPD', 'DGAT1', 'HERC2', 'SLC22A3', 'APOE', 'HERC1', 'GALNT3', 'FAM227B', 'ENPP3', 'PKLR']\n"
     ]
    }
   ],
   "source": [
    "# one solution only taken. needs to be normalized with a range of fluxes, FVA etc.\n",
    "print(ko_candidate_genes)"
   ]
  },
  {
   "cell_type": "code",
   "execution_count": 173,
   "id": "f584b13e",
   "metadata": {},
   "outputs": [
    {
     "ename": "ValueError",
     "evalue": "The truth value of a Series is ambiguous. Use a.empty, a.bool(), a.item(), a.any() or a.all().",
     "output_type": "error",
     "traceback": [
      "\u001b[1;31m---------------------------------------------------------------------------\u001b[0m",
      "\u001b[1;31mValueError\u001b[0m                                Traceback (most recent call last)",
      "Cell \u001b[1;32mIn [173], line 5\u001b[0m\n\u001b[0;32m      3\u001b[0m unique\u001b[38;5;241m=\u001b[39m\u001b[38;5;28;01mTrue\u001b[39;00m\n\u001b[0;32m      4\u001b[0m \u001b[38;5;28;01mfor\u001b[39;00m j \u001b[38;5;129;01min\u001b[39;00m unique_fluxes:\n\u001b[1;32m----> 5\u001b[0m     \u001b[38;5;28;01mif\u001b[39;00m \u001b[43mj\u001b[49m\u001b[38;5;241;43m==\u001b[39;49m\u001b[43mi\u001b[49m\u001b[38;5;241;43m.\u001b[39;49m\u001b[43mfluxes\u001b[49m:\n\u001b[0;32m      6\u001b[0m         unique\u001b[38;5;241m=\u001b[39m\u001b[38;5;28;01mFalse\u001b[39;00m\n\u001b[0;32m      7\u001b[0m         \u001b[38;5;28;01mbreak\u001b[39;00m\n",
      "File \u001b[1;32m~\\miniconda3\\lib\\site-packages\\pandas\\core\\generic.py:1527\u001b[0m, in \u001b[0;36mNDFrame.__nonzero__\u001b[1;34m(self)\u001b[0m\n\u001b[0;32m   1525\u001b[0m \u001b[38;5;129m@final\u001b[39m\n\u001b[0;32m   1526\u001b[0m \u001b[38;5;28;01mdef\u001b[39;00m \u001b[38;5;21m__nonzero__\u001b[39m(\u001b[38;5;28mself\u001b[39m) \u001b[38;5;241m-\u001b[39m\u001b[38;5;241m>\u001b[39m NoReturn:\n\u001b[1;32m-> 1527\u001b[0m     \u001b[38;5;28;01mraise\u001b[39;00m \u001b[38;5;167;01mValueError\u001b[39;00m(\n\u001b[0;32m   1528\u001b[0m         \u001b[38;5;124mf\u001b[39m\u001b[38;5;124m\"\u001b[39m\u001b[38;5;124mThe truth value of a \u001b[39m\u001b[38;5;132;01m{\u001b[39;00m\u001b[38;5;28mtype\u001b[39m(\u001b[38;5;28mself\u001b[39m)\u001b[38;5;241m.\u001b[39m\u001b[38;5;18m__name__\u001b[39m\u001b[38;5;132;01m}\u001b[39;00m\u001b[38;5;124m is ambiguous. \u001b[39m\u001b[38;5;124m\"\u001b[39m\n\u001b[0;32m   1529\u001b[0m         \u001b[38;5;124m\"\u001b[39m\u001b[38;5;124mUse a.empty, a.bool(), a.item(), a.any() or a.all().\u001b[39m\u001b[38;5;124m\"\u001b[39m\n\u001b[0;32m   1530\u001b[0m     )\n",
      "\u001b[1;31mValueError\u001b[0m: The truth value of a Series is ambiguous. Use a.empty, a.bool(), a.item(), a.any() or a.all()."
     ]
    }
   ],
   "source": [
    "unique_fluxes=[solutions[0].fluxes]\n",
    "for i in solutions:\n",
    "    unique=True\n",
    "    for j in unique_fluxes:\n",
    "        if j==i.fluxes:\n",
    "            unique=False\n",
    "            break\n",
    "    if unique==True:\n",
    "        unique_fluxes.append(i.fluxes)\n",
    "print(len(unique_fluxes))\n"
   ]
  },
  {
   "cell_type": "code",
   "execution_count": null,
   "id": "9fd1657f",
   "metadata": {},
   "outputs": [],
   "source": []
  }
 ],
 "metadata": {
  "kernelspec": {
   "display_name": "Python 3 (ipykernel)",
   "language": "python",
   "name": "python3"
  },
  "language_info": {
   "codemirror_mode": {
    "name": "ipython",
    "version": 3
   },
   "file_extension": ".py",
   "mimetype": "text/x-python",
   "name": "python",
   "nbconvert_exporter": "python",
   "pygments_lexer": "ipython3",
   "version": "3.9.12"
  }
 },
 "nbformat": 4,
 "nbformat_minor": 5
}
